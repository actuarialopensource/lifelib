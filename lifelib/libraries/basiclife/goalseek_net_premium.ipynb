{
 "cells": [
  {
   "cell_type": "markdown",
   "metadata": {},
   "source": [
    "## Goalseek in Actuarial Models with PyTorch\n",
    "\n",
    "Goal seek is functionality in Excel that helps us solve equations. We can use the machinery from the deep learning framework PyTorch to implement goal seek in Python. We use a simplified version of the BasicTerm_M model for this demonstration."
   ]
  },
  {
   "cell_type": "code",
   "execution_count": 3,
   "metadata": {},
   "outputs": [],
   "source": [
    "import sys, os\n",
    "\n",
    "if 'google.colab' in sys.modules:\n",
    "    lib = 'basiclife'; lib_dir = '/content/'+ lib\n",
    "    if not os.path.exists(lib_dir):\n",
    "        !pip install lifelib\n",
    "        import lifelib; lifelib.create(lib, lib_dir)\n",
    "        \n",
    "    %cd $lib_dir"
   ]
  },
  {
   "cell_type": "code",
   "execution_count": 4,
   "metadata": {},
   "outputs": [
    {
     "name": "stdout",
     "output_type": "stream",
     "text": [
      "Now using node v18.19.0 (npm v10.2.3)\n",
      "Requirement already satisfied: torch in /Users/matthewcaseres/miniconda3/lib/python3.10/site-packages (2.2.0)\n",
      "Requirement already satisfied: filelock in /Users/matthewcaseres/miniconda3/lib/python3.10/site-packages (from torch) (3.13.1)\n",
      "Requirement already satisfied: typing-extensions>=4.8.0 in /Users/matthewcaseres/miniconda3/lib/python3.10/site-packages (from torch) (4.9.0)\n",
      "Requirement already satisfied: sympy in /Users/matthewcaseres/miniconda3/lib/python3.10/site-packages (from torch) (1.12)\n",
      "Requirement already satisfied: networkx in /Users/matthewcaseres/miniconda3/lib/python3.10/site-packages (from torch) (2.8.4)\n",
      "Requirement already satisfied: jinja2 in /Users/matthewcaseres/miniconda3/lib/python3.10/site-packages (from torch) (3.1.2)\n",
      "Requirement already satisfied: fsspec in /Users/matthewcaseres/miniconda3/lib/python3.10/site-packages (from torch) (2024.2.0)\n",
      "Requirement already satisfied: MarkupSafe>=2.0 in /Users/matthewcaseres/miniconda3/lib/python3.10/site-packages (from jinja2->torch) (2.1.1)\n",
      "Requirement already satisfied: mpmath>=0.19 in /Users/matthewcaseres/miniconda3/lib/python3.10/site-packages (from sympy->torch) (1.3.0)\n",
      "\n",
      "\u001b[1m[\u001b[0m\u001b[34;49mnotice\u001b[0m\u001b[1;39;49m]\u001b[0m\u001b[39;49m A new release of pip is available: \u001b[0m\u001b[31;49m23.3.2\u001b[0m\u001b[39;49m -> \u001b[0m\u001b[32;49m24.0\u001b[0m\n",
      "\u001b[1m[\u001b[0m\u001b[34;49mnotice\u001b[0m\u001b[1;39;49m]\u001b[0m\u001b[39;49m To update, run: \u001b[0m\u001b[32;49mpip install --upgrade pip\u001b[0m\n"
     ]
    }
   ],
   "source": [
    "!pip install torch"
   ]
  },
  {
   "cell_type": "markdown",
   "metadata": {},
   "source": [
    "## Import and setup"
   ]
  },
  {
   "cell_type": "markdown",
   "metadata": {},
   "source": [
    "The following cell contains all of the formulas and caching mechanisms, its contents are not the main focus so you can skip to the next cell if you like. Here is a brief overview of what the code does.\n",
    "\n",
    "`Cash` is a cache to avoid a type of exponential runtime that is associated with sysems of recursive functions. `Ctx` is a class that contains any dependencies of a function that might change across runs of the model, in this case we change the premium as we optimize in search of the net premium.\n",
    "\n",
    "Most of the code is formula definitions from the BasicTerm_M model."
   ]
  },
  {
   "cell_type": "code",
   "execution_count": 22,
   "metadata": {},
   "outputs": [],
   "source": [
    "from functools import wraps\n",
    "from dataclasses import dataclass\n",
    "from collections import defaultdict\n",
    "import pandas as pd\n",
    "import torch\n",
    "from torch import optim\n",
    "\n",
    "torch.set_default_dtype(torch.float64)\n",
    "\n",
    "# constants\n",
    "max_proj_len = 12 * 20 + 1\n",
    "\n",
    "mp = pd.read_excel(\"BasicTerm_M/model_point_table.xlsx\")\n",
    "disc_rate = torch.tensor(pd.read_excel(\"BasicTerm_M/disc_rate_ann.xlsx\")['zero_spot'].values)\n",
    "mort_np = torch.tensor(pd.read_excel(\"BasicTerm_M/mort_table.xlsx\").drop(columns=[\"Age\"]).values)\n",
    "sum_assured = torch.tensor(mp[\"sum_assured\"].values)\n",
    "issue_age = torch.tensor(mp[\"age_at_entry\"].values)\n",
    "policy_term = torch.tensor(mp[\"policy_term\"].values)\n",
    "\n",
    "# a cache decorator\n",
    "class Cash:\n",
    "    def __init__(self):\n",
    "        self.reset()\n",
    "\n",
    "    def reset(self):\n",
    "        self.caches = defaultdict(dict)\n",
    "\n",
    "    def __call__(self, func):\n",
    "        @wraps(func)\n",
    "        def wrapper(*args, **kwargs):\n",
    "            key = (args, frozenset(kwargs.items()))\n",
    "            if key not in self.caches[func.__name__]:\n",
    "                self.caches[func.__name__][key] = func(*args, **kwargs)\n",
    "            return self.caches[func.__name__][key]\n",
    "\n",
    "        return wrapper\n",
    "\n",
    "cash = Cash()\n",
    "\n",
    "# An object that contains context for the model\n",
    "@dataclass(eq=False)\n",
    "class Ctx:\n",
    "    net_premium_pp: torch.Tensor\n",
    "\n",
    "@cash\n",
    "def get_annual_rate(duration):\n",
    "    return mort_np[issue_age + duration - 18, min(duration, 5)]\n",
    "@cash\n",
    "def get_monthly_rate(duration):\n",
    "    return 1 - (1 - get_annual_rate(duration)) ** (1/12)\n",
    "@cash\n",
    "def duration(t):\n",
    "    return t // 12\n",
    "@cash\n",
    "def pols_death(t):\n",
    "    return pols_if(t) * get_monthly_rate(duration(t))\n",
    "@cash\n",
    "def pols_if(t):\n",
    "    if t == 0:\n",
    "        return 1\n",
    "    return pols_if(t - 1) - pols_lapse(t - 1) - pols_death(t - 1) - pols_maturity(t)\n",
    "@cash\n",
    "def lapse_rate(t):\n",
    "    return max(0.1 - 0.02 * duration(t), 0.02)\n",
    "@cash\n",
    "def pols_lapse(t):\n",
    "    return (pols_if(t) - pols_death(t)) * (1 - (1 - lapse_rate(t)) ** (1/12))\n",
    "@cash\n",
    "def pols_maturity(t):\n",
    "    if t == 0:\n",
    "        return 0\n",
    "    return (t == 12 * policy_term) * (pols_if(t - 1) - pols_lapse(t - 1) - pols_death(t - 1))\n",
    "@cash\n",
    "def discount(t):\n",
    "    return (1 + disc_rate[duration(t)]) ** (-t/12)\n",
    "@cash\n",
    "def claims(t):\n",
    "    return pols_death(t) * sum_assured\n",
    "@cash\n",
    "def pv_pols_if():\n",
    "    return sum(pols_if(t) * discount(t)  for t in range(max_proj_len))\n",
    "@cash\n",
    "def pv_claims():\n",
    "    return sum(claims(t) * discount(t) for t in range(max_proj_len))\n",
    "@cash\n",
    "def net_premium_pp(ctx: Ctx):\n",
    "    return ctx.net_premium_pp\n",
    "@cash\n",
    "def premiums(t, ctx):\n",
    "    return net_premium_pp(ctx) * pols_if(t)\n",
    "@cash\n",
    "def pv_net_premiums(ctx):\n",
    "    return sum(premiums(t, ctx) * discount(t) for t in range(max_proj_len))\n",
    "@cash\n",
    "def pv_net_cf(ctx):\n",
    "    return pv_net_premiums(ctx) - pv_claims()"
   ]
  },
  {
   "cell_type": "markdown",
   "metadata": {},
   "source": [
    "## Using PyTorch to find the net premium\n",
    "\n",
    "Because the premium at which the net premiums are equal to claims is the net premium, we can minimize `torch.sum((pv_net_premiums(ctx) - pv_claims())**2)` and if this quantity approaches 0, we know that `pv_net_premiums = pv_claims` for each modelpoint."
   ]
  },
  {
   "cell_type": "code",
   "execution_count": 21,
   "metadata": {},
   "outputs": [
    {
     "name": "stdout",
     "output_type": "stream",
     "text": [
      "pv_net_premiums(ctx) - pv_claims()=tensor([-3.0353e-08,  5.1369e-08, -3.2707e-08,  ..., -6.0820e-08,\n",
      "        -1.9495e-08, -5.3657e-08], grad_fn=<SubBackward0>)\n",
      "It works!\n"
     ]
    }
   ],
   "source": [
    "ctx = Ctx(\n",
    "    net_premium_pp=torch.zeros(len(mp), requires_grad=True)\n",
    ")\n",
    "optimizer = optim.LBFGS([ctx.net_premium_pp], lr=1)\n",
    "def closure():\n",
    "    cash.caches.clear()\n",
    "    optimizer.zero_grad()\n",
    "    loss = torch.sum((pv_net_premiums(ctx) - pv_claims()) ** 2)\n",
    "    loss.backward()\n",
    "    return loss.item()\n",
    "optimizer.step(closure)\n",
    "print(f\"{pv_net_premiums(ctx) - pv_claims()=}\")\n",
    "print(\"It works!\")"
   ]
  },
  {
   "cell_type": "markdown",
   "metadata": {},
   "source": [
    "The net premium can also be calculated as `pv_claims() / pv_pols_if()`. See that this yields the same results."
   ]
  },
  {
   "cell_type": "code",
   "execution_count": 31,
   "metadata": {},
   "outputs": [
    {
     "name": "stdout",
     "output_type": "stream",
     "text": [
      "ctx.net_premium_pp=tensor([ 63.2244,  40.7597, 105.7679,  ..., 105.0306,  27.5880,  21.2279],\n",
      "       requires_grad=True)\n",
      "pv_claims() / pv_pols_if()=tensor([ 63.2244,  40.7597, 105.7679,  ..., 105.0306,  27.5880,  21.2279])\n"
     ]
    }
   ],
   "source": [
    "print(f\"{ctx.net_premium_pp=}\")\n",
    "cash.reset()\n",
    "print(f\"{pv_claims() / pv_pols_if()=}\")"
   ]
  },
  {
   "cell_type": "markdown",
   "metadata": {},
   "source": [
    "## What's next\n",
    "\n",
    "This goal seek relies on PyTorch's ability to minimize a loss function. Depending on how a loss function is defined, this technique could do things like setting premium jumps in term life insurance to optimize the profitability for a given lapse/mortality model."
   ]
  }
 ],
 "metadata": {
  "kernelspec": {
   "display_name": "benchmark",
   "language": "python",
   "name": "python3"
  },
  "language_info": {
   "codemirror_mode": {
    "name": "ipython",
    "version": 3
   },
   "file_extension": ".py",
   "mimetype": "text/x-python",
   "name": "python",
   "nbconvert_exporter": "python",
   "pygments_lexer": "ipython3",
   "version": "3.10.9"
  }
 },
 "nbformat": 4,
 "nbformat_minor": 2
}
